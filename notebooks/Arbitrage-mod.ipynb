{
 "cells": [
  {
   "attachments": {},
   "cell_type": "markdown",
   "metadata": {},
   "source": [
    "# Statistical Arbitrage for Sports Betting"
   ]
  },
  {
   "attachments": {},
   "cell_type": "markdown",
   "metadata": {},
   "source": [
    "Using: Live Sports Odds API\n",
    "Documentation Link: https://the-odds-api.com/ \n",
    "\n",
    "This program will look for statistical arbitrage opportunities in the upcoming eight games across all sports.\n",
    "\n",
    "\n",
    "### Importing Dependencies and Acquiring API Key\n",
    "\n"
   ]
  },
  {
   "cell_type": "code",
   "execution_count": null,
   "metadata": {},
   "outputs": [],
   "source": [
    "import requests\n",
    "import xlsxwriter\n",
    "import pandas as pd\n",
    "import numpy as np\n",
    "import openpyxl\n",
    "from openpyxl import Workbook, load_workbook\n",
    "from openpyxl.styles import Border, Side, Font, Alignment, PatternFill, numbers\n",
    "\n",
    "f = open('ODDS_API_KEY.txt', 'r')\n",
    "API_KEY = f.read()\n",
    "f.close()"
   ]
  },
  {
   "attachments": {},
   "cell_type": "markdown",
   "metadata": {},
   "source": [
    "### Defining Constants and Making API Call\n",
    "- ``BET_SIZE`` is the monetary amount in USD that you are willing to make for each bet. For example, if you define ``BET_SIZE`` as 100, you are telling the program that you want to bet a total of 100 dollars USD for each arbitrage opportunity that the program finds"
   ]
  },
  {
   "cell_type": "code",
   "execution_count": null,
   "metadata": {},
   "outputs": [],
   "source": [
    "SPORT = 'upcoming' # use the sport_key from the /sports endpoint below, or use 'upcoming' to see the next 8 games across all sports\n",
    "\n",
    "REGIONS = 'us' # uk | us | eu | au. Multiple can be specified if comma delimited\n",
    "\n",
    "MARKETS = 'h2h' # h2h | spreads | totals. Multiple can be specified if comma delimited\n",
    "\n",
    "ODDS_FORMAT = 'decimal' # decimal | american\n",
    "\n",
    "DATE_FORMAT = 'iso' # iso | unix\n",
    "\n",
    "BET_SIZE = 100\n",
    "\n",
    "odds_response = requests.get(\n",
    "    f'https://api.the-odds-api.com/v4/sports/{SPORT}/odds',\n",
    "    params={\n",
    "        'api_key': API_KEY,\n",
    "        'regions': REGIONS,\n",
    "        'markets': MARKETS,\n",
    "        'oddsFormat': ODDS_FORMAT,\n",
    "        'dateFormat': DATE_FORMAT,\n",
    "    }\n",
    ").json()"
   ]
  },
  {
   "cell_type": "code",
   "execution_count": null,
   "metadata": {},
   "outputs": [],
   "source": [
    "# odds_response"
   ]
  },
  {
   "attachments": {},
   "cell_type": "markdown",
   "metadata": {},
   "source": [
    "### Event Class\n",
    "- Each ``Event`` object represents an indivudal sporting event\n",
    "- The ``data`` parameter contains all of the odds data that is received from the API call"
   ]
  },
  {
   "cell_type": "code",
   "execution_count": null,
   "metadata": {},
   "outputs": [],
   "source": [
    "BOOKMAKER_INDEX = 0\n",
    "NAME_INDEX = 1\n",
    "ODDS_INDEX = 2\n",
    "FIRST = 0\n",
    "\n",
    "class Event:\n",
    "    def __init__(self, data):\n",
    "        self.data = data\n",
    "        self.sport_key = data['sport_key']\n",
    "        self.id = data['id']\n",
    "        \n",
    "    def find_best_odds(self):\n",
    "        # number of possible outcomes for a sporting event\n",
    "        num_outcomes = len(self.data['bookmakers'][FIRST]['markets'][FIRST]['outcomes'])\n",
    "        self.num_outcomes = num_outcomes\n",
    "\n",
    "        # finding the best odds for each outcome in each event\n",
    "        best_odds = [[None, None, float('-inf')] for _ in range(num_outcomes)]\n",
    "        # [Bookmaker, Name, Price]\n",
    "\n",
    "        bookmakers = event.data['bookmakers']\n",
    "        for index, bookmaker in enumerate(bookmakers):\n",
    "\n",
    "            # determing the odds offered by each bookmaker\n",
    "            for outcome in range(num_outcomes):\n",
    "\n",
    "                # determining if any of the bookmaker odds are better than the current best odds\n",
    "                bookmaker_odds = float(bookmaker['markets'][FIRST]['outcomes'][outcome]['price'])\n",
    "                current_best_odds = best_odds[outcome][ODDS_INDEX]\n",
    "\n",
    "                if bookmaker_odds > current_best_odds:\n",
    "                    best_odds[outcome][BOOKMAKER_INDEX] = bookmaker['title']\n",
    "                    best_odds[outcome][NAME_INDEX] = bookmaker['markets'][FIRST]['outcomes'][outcome]['name']\n",
    "                    best_odds[outcome][ODDS_INDEX] = bookmaker_odds\n",
    "                    \n",
    "        self.best_odds = best_odds\n",
    "        return best_odds\n",
    "    \n",
    "    def arbitrage(self):\n",
    "        total_arbitrage_percentage = 0\n",
    "        for odds in self.best_odds:\n",
    "            total_arbitrage_percentage += (1.0 / odds[ODDS_INDEX])\n",
    "            \n",
    "        self.total_arbitrage_percentage = total_arbitrage_percentage\n",
    "        self.expected_earnings = (BET_SIZE / total_arbitrage_percentage) - BET_SIZE\n",
    "        \n",
    "        # if the sum of the reciprocals of the odds is less than 1, there is opportunity for arbitrage\n",
    "        if total_arbitrage_percentage < 1:\n",
    "            return True\n",
    "        return False\n",
    "    \n",
    "    # converts decimal/European best odds to American best odds\n",
    "    def convert_decimal_to_american(self):\n",
    "        best_odds = self.best_odds\n",
    "        for odds in best_odds:\n",
    "            decimal = odds[ODDS_INDEX]\n",
    "            if decimal >= 2:\n",
    "                american = (decimal - 1) * 100\n",
    "            elif decimal < 2:\n",
    "                american = -100 / (decimal - 1)\n",
    "            odds[ODDS_INDEX] = round(american, 2)\n",
    "        return best_odds\n",
    "     \n",
    "    def calculate_arbitrage_bets(self):\n",
    "        bet_amounts = []\n",
    "        for outcome in range(self.num_outcomes):\n",
    "            individual_arbitrage_percentage = 1 / self.best_odds[outcome][ODDS_INDEX]\n",
    "            bet_amount = (BET_SIZE * individual_arbitrage_percentage) / self.total_arbitrage_percentage\n",
    "            bet_amounts.append(round(bet_amount, 2))\n",
    "        \n",
    "        self.bet_amounts = bet_amounts\n",
    "        return bet_amounts"
   ]
  },
  {
   "attachments": {},
   "cell_type": "markdown",
   "metadata": {},
   "source": [
    "### Parsing Events and Calculating Arbitrage Bets\n",
    "- `BET_SIZE` is the amount of money in USD that you would like to bet across the outcomes of an event.\n",
    "- This calculation will used unbiased arbitrage, where the profit is the same regardless of the outcome."
   ]
  },
  {
   "cell_type": "code",
   "execution_count": null,
   "metadata": {},
   "outputs": [],
   "source": [
    "events = []\n",
    "for data in odds_response:\n",
    "    events.append(Event(data))\n",
    "    # print(data)\n",
    "    # print()\n",
    "    \n",
    "arbitrage_events = []\n",
    "for event in events:\n",
    "    best_odds = event.find_best_odds()\n",
    "    if event.arbitrage():\n",
    "        arbitrage_events.append(event)\n",
    "        \n",
    "for event in arbitrage_events:\n",
    "    event.calculate_arbitrage_bets()\n",
    "    event.convert_decimal_to_american()"
   ]
  },
  {
   "attachments": {},
   "cell_type": "markdown",
   "metadata": {},
   "source": [
    "### Creating Dataframe and Writing to Excel File"
   ]
  },
  {
   "cell_type": "code",
   "execution_count": null,
   "metadata": {},
   "outputs": [],
   "source": [
    "MAX_OUTCOMES = max([event.num_outcomes for event in arbitrage_events])\n",
    "ARBITRAGE_EVENTS_COUNT = len(arbitrage_events)\n",
    "\n",
    "my_columns = ['ID', 'Sport Key', 'Expected Earnings'] + list(np.array([[f'Bookmaker #{outcome}', f'Name #{outcome}', f'Odds #{outcome}', f'Amount to Buy #{outcome}'] for outcome in range(1, MAX_OUTCOMES + 1)]).flatten())\n",
    "dataframe = pd.DataFrame(columns=my_columns)"
   ]
  },
  {
   "cell_type": "code",
   "execution_count": null,
   "metadata": {},
   "outputs": [],
   "source": [
    "for event in arbitrage_events:\n",
    "    # print(event.best_odds)\n",
    "    row = []\n",
    "    row.append(event.id)\n",
    "    row.append(event.sport_key)\n",
    "    row.append(round(event.expected_earnings, 2))\n",
    "    for index, outcome in enumerate(event.best_odds):\n",
    "        row.append(outcome[BOOKMAKER_INDEX])\n",
    "        row.append(outcome[NAME_INDEX])\n",
    "        row.append(outcome[ODDS_INDEX])\n",
    "        row.append(event.bet_amounts[index])\n",
    "    while len(row) < len(dataframe.columns):\n",
    "        row.append('N/A')\n",
    "    dataframe.loc[len(dataframe.index)] = row"
   ]
  },
  {
   "cell_type": "code",
   "execution_count": null,
   "metadata": {},
   "outputs": [],
   "source": [
    "writer = pd.ExcelWriter('bets.xlsx')\n",
    "dataframe.to_excel(writer, index=False)\n",
    "writer.save()"
   ]
  },
  {
   "cell_type": "markdown",
   "metadata": {},
   "source": [
    "### Formatting the Excel File"
   ]
  },
  {
   "cell_type": "code",
   "execution_count": null,
   "metadata": {},
   "outputs": [],
   "source": [
    "BLACK = '000000'\n",
    "LIGHT_GREY = 'D6D6D6'\n",
    "DARK_GREY = '9F9F9F'\n",
    "RED = 'FEA0A0'\n",
    "BLUE = 'A0CEFE'\n",
    "YELLOW = 'FFE540'\n",
    "\n",
    "COLORS = [RED, BLUE]\n",
    "\n",
    "ID_COLUMN_FILL = PatternFill(fill_type='solid', start_color=DARK_GREY, end_color=DARK_GREY)\n",
    "SPORT_KEY_COLUMN_FILL = PatternFill(fill_type='solid', start_color=LIGHT_GREY, end_color=LIGHT_GREY)\n",
    "EXPECTED_EARNINGS_COLUMN_FILL = PatternFill(fill_type='solid', start_color=YELLOW, end_color=YELLOW)\n",
    "\n",
    "CENTER_ALIGNMENT = Alignment(horizontal='center', vertical='bottom', indent=0)\n",
    "\n",
    "TOP_ROW_BORDER = Border(bottom=Side(border_style='thick', color=BLACK))\n",
    "NORMAL_ROW_BORDER = Border(top=Side(border_style='thin', color=LIGHT_GREY), bottom=Side(border_style='thin', color=DARK_GREY))\n",
    "\n",
    "wb = load_workbook('bets.xlsx')\n",
    "ws = wb.active\n",
    "ws.title = 'Upcoming'\n",
    "# changing width\n",
    "for col in range(1, 26):\n",
    "    ws.column_dimensions[chr(col + 64)].width = 20\n",
    "\n",
    "for cell in ws['A']:\n",
    "    cell.fill = ID_COLUMN_FILL\n",
    "    cell.alignment = CENTER_ALIGNMENT\n",
    "    \n",
    "for cell in ws['B']:\n",
    "    cell.fill = SPORT_KEY_COLUMN_FILL\n",
    "    cell.alignment = CENTER_ALIGNMENT\n",
    "    \n",
    "for cell in ws['C']:\n",
    "    cell.fill = EXPECTED_EARNINGS_COLUMN_FILL\n",
    "    cell.alignment = CENTER_ALIGNMENT\n",
    "    cell.number_format = numbers.BUILTIN_FORMATS[7]\n",
    "\n",
    "START_INDEX = 'D'\n",
    "for index in range(MAX_OUTCOMES):\n",
    "    for col in ws[START_INDEX : chr(ord(START_INDEX) + 3)]:\n",
    "        for cell in col:\n",
    "            color = COLORS[int(index % 2)]\n",
    "            cell.fill = PatternFill(fill_type='solid', start_color=color, end_color=color)\n",
    "            cell.alignment = CENTER_ALIGNMENT\n",
    "            if cell.column % 4 == 3:\n",
    "                cell.number_format = numbers.BUILTIN_FORMATS[7]\n",
    "            \n",
    "    START_INDEX = chr(ord(START_INDEX) + 4)\n",
    "\n",
    "for cell in ws['1']:\n",
    "    cell.border = TOP_ROW_BORDER\n",
    "\n",
    "for row in range(2, ARBITRAGE_EVENTS_COUNT + 2):\n",
    "    for cell in ws[str(row)]:\n",
    "        cell.border = NORMAL_ROW_BORDER\n",
    "    \n",
    "wb.save('upcoming_events_bets.xlsx')"
   ]
  },
  {
   "cell_type": "code",
   "execution_count": null,
   "metadata": {},
   "outputs": [],
   "source": []
  },
  {
   "cell_type": "code",
   "execution_count": null,
   "metadata": {},
   "outputs": [],
   "source": []
  }
 ],
 "metadata": {
  "language_info": {
   "name": "python"
  },
  "orig_nbformat": 4
 },
 "nbformat": 4,
 "nbformat_minor": 2
}
