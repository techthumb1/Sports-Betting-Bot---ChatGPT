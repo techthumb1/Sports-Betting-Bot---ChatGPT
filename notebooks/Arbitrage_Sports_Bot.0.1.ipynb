{
  "cells": [
    {
      "cell_type": "markdown",
      "metadata": {
        "id": "sRnhgvsweF9m"
      },
      "source": [
        "# Arbitrage_Sports_Bot.0.1an"
      ]
    },
    {
      "cell_type": "markdown",
      "metadata": {
        "id": "8QqtBgLSd41Q"
      },
      "source": [
        "### Version #1"
      ]
    },
    {
      "cell_type": "code",
      "execution_count": null,
      "metadata": {
        "id": "dcPo7epzduPw"
      },
      "outputs": [],
      "source": [
        "class ArbitrageBot:\n",
        "    def __init__(self, outcomes):\n",
        "        self.outcomes = outcomes\n",
        "\n",
        "    def calculate_opportunity_matrix(self):\n",
        "        matrix = []\n",
        "        for i, outcome1 in enumerate(self.outcomes):\n",
        "            row = []\n",
        "            for j, outcome2 in enumerate(self.outcomes):\n",
        "                if i == j:\n",
        "                    row.append(None)\n",
        "                else:\n",
        "                    odds1, odds2 = outcome1['odds'], outcome2['odds']\n",
        "                    implied_prob1 = 1 / odds1\n",
        "                    implied_prob2 = 1 / odds2\n",
        "                    total_prob = implied_prob1 + implied_prob2\n",
        "                    if total_prob < 1:\n",
        "                        row.append(None)\n",
        "                    else:\n",
        "                        arbitrage_percent = (1 - total_prob) / total_prob\n",
        "                        row.append({'opportunity': arbitrage_percent, 'bet1': i, 'bet2': j})\n",
        "            matrix.append(row)\n",
        "        return matrix\n",
        "\n",
        "    def calculate_optimal_bets(self, opportunity_matrix, total_stake):\n",
        "        bets = [0] * len(self.outcomes)\n",
        "        for row in opportunity_matrix:\n",
        "            for item in row:\n",
        "                if item is not None and item['opportunity'] > 0:\n",
        "                    bet1, bet2 = item['bet1'], item['bet2']\n",
        "                    odds1, odds2 = self.outcomes[bet1]['odds'], self.outcomes[bet2]['odds']\n",
        "                    implied_prob1 = 1 / odds1\n",
        "                    implied_prob2 = 1 / odds2\n",
        "                    total_prob = implied_prob1 + implied_prob2\n",
        "                    arb_prob = total_prob - 1\n",
        "                    arb_stake = (total_stake * arb_prob) / (item['opportunity'] + arb_prob)\n",
        "                    bets[bet1] += arb_stake / odds1\n",
        "                    bets[bet2] += arb_stake / odds2\n",
        "        return bets\n",
        "\n",
        "    def place_bets(self, bets):\n",
        "        for i, outcome in enumerate(self.outcomes):\n",
        "            outcome['bet_amount'] = bets[i]\n",
        "            outcome['potential_payout'] = bets[i] * outcome['odds']\n",
        "\n",
        "    def run(self, total_stake):\n",
        "        opportunity_matrix = self.calculate_opportunity_matrix()\n",
        "        bets = self.calculate_optimal_bets(opportunity_matrix, total_stake)\n",
        "        self.place_bets(bets)\n",
        "        return self.outcomes\n"
      ]
    },
    {
      "cell_type": "markdown",
      "metadata": {
        "id": "cWx3dgdKdwjl"
      },
      "source": [
        "### Version #2"
      ]
    },
    {
      "cell_type": "code",
      "execution_count": null,
      "metadata": {
        "id": "lnVSWIT2aFD7"
      },
      "outputs": [],
      "source": [
        "import requests\n",
        "\n",
        "class ArbitrageBot:\n",
        "    def __init__(self, bookmaker_odds):\n",
        "        self.bookmaker_odds = bookmaker_odds\n",
        "    \n",
        "    def calculate_arbitrage(self):\n",
        "        total_prob = 0\n",
        "        for odds in self.bookmaker_odds:\n",
        "            total_prob += 1 / odds\n",
        "        \n",
        "        if total_prob < 1:\n",
        "            return {\"message\": \"Arbitrage opportunity found\"}\n",
        "        \n",
        "        return {\"message\": \"No arbitrage opportunity found\"}\n",
        "\n",
        "\n",
        "url = \"https://api.the-odds-api.com/v4/sports/basketball_nba/odds\"\n",
        "\n",
        "params = {\n",
        "    \"apiKey\": \"0b20b2a9fad61c63a508354884e98914\",\n",
        "    \"regions\": \"us\",\n",
        "    \"markets\": \"spreads\",\n",
        "    \"oddsFormat\": \"american\",\n",
        "    \"include\": \"team\"\n",
        "}\n",
        "\n",
        "response = requests.get(url, params=params)\n",
        "\n",
        "if response.status_code == 200:\n",
        "    data = response.json()[0]\n",
        "    for game in data:\n",
        "        home_team = game[\"teams\"][0][\"name\"]\n",
        "        away_team = game[\"teams\"][1][\"name\"]\n",
        "        home_spread = game[\"sites\"][0][\"odds\"][\"spreads\"][\"points\"][0]\n",
        "        away_spread = game[\"sites\"][0][\"odds\"][\"spreads\"][\"points\"][1]\n",
        "        print(f\"{away_team} @ {home_team}: {away_spread} - {home_spread}\")\n",
        "else:\n",
        "    print(\"Error: Unable to retrieve odds data\")\n",
        "\n",
        "    \n"
      ]
    },
    {
      "cell_type": "markdown",
      "metadata": {
        "id": "Jv8f7tEsgWQk"
      },
      "source": [
        "### Version #3"
      ]
    },
    {
      "cell_type": "code",
      "execution_count": null,
      "metadata": {
        "id": "M1XWx8Pwau_x"
      },
      "outputs": [],
      "source": [
        "import requests\n",
        "import json\n",
        "\n",
        "class ArbitrageBot:\n",
        "    def __init__(self, api_key):\n",
        "        self.api_key = '0b20b2a9fad61c63a508354884e98914'\n",
        "        self.url = \"https://api.the-odds-api.com/v3/odds/\"\n",
        "        self.headers = {\n",
        "            'Content-Type': 'application/json',\n",
        "            'x-api-key': self.api_key\n",
        "        }\n",
        "\n",
        "    def find_arbitrage_opportunities(self, sport):\n",
        "        # Make a request to the odds-api to get the latest odds for the specified sport\n",
        "        response = requests.get(self.url + sport, headers=self.headers)\n",
        "        data = json.loads(response.text)\n",
        "        \n",
        "        # Extract the odds and bookmaker information from the response\n",
        "        bookmakers = data['data'][0]['sites']\n",
        "        odds = [bookmaker['odds']['h2h'] for bookmaker in bookmakers]\n",
        "        \n",
        "        # Calculate the implied probabilities of each outcome\n",
        "        implied_probs = [1 / odd for odd in odds]\n",
        "        \n",
        "        # Calculate the total implied probability for all outcomes\n",
        "        total_implied_prob = sum(implied_probs)\n",
        "        \n",
        "        # Calculate the arbitrage percentage\n",
        "        arb_percentage = (1 - total_implied_prob) * 100\n",
        "        \n",
        "        # Find the bookmaker and outcome that offers the best odds for each outcome\n",
        "        best_odds = [max(bookmaker['odds']['h2h']) for bookmaker in bookmakers]\n",
        "        best_bookmakers = [bookmaker['site_key'] for bookmaker in bookmakers]\n",
        "        \n",
        "        # Calculate the size of the bets to place on each outcome to guarantee a profit\n",
        "        bet_sizes = [(1 / odd) * (total_implied_prob - 1) for odd in best_odds]\n",
        "        \n",
        "        # Calculate the total amount to bet\n",
        "        total_bet = sum(bet_sizes)\n",
        "        \n",
        "        # Print out the details of the arbitrage opportunity and the recommended bets\n",
        "        print(f\"Arbitrage opportunity found in {sport} with {arb_percentage:.2f}% arbitrage percentage\")\n",
        "        for i in range(len(best_odds)):\n",
        "            print(f\"Bet {bet_sizes[i]:.2f} on {best_bookmakers[i]} for odds of {best_odds[i]}\")\n",
        "        print(f\"Total bet size: {total_bet:.2f}\")\n"
      ]
    },
    {
      "cell_type": "code",
      "execution_count": null,
      "metadata": {
        "colab": {
          "base_uri": "https://localhost:8080/",
          "height": 307
        },
        "id": "s8U0UYQOhHu9",
        "outputId": "6ccb6eeb-719f-4716-f029-0c0346ca3f7f"
      },
      "outputs": [
        {
          "ename": "JSONDecodeError",
          "evalue": "ignored",
          "output_type": "error",
          "traceback": [
            "\u001b[0;31m---------------------------------------------------------------------------\u001b[0m",
            "\u001b[0;31mJSONDecodeError\u001b[0m                           Traceback (most recent call last)",
            "\u001b[0;32m<ipython-input-10-49b81c3aaa63>\u001b[0m in \u001b[0;36m<module>\u001b[0;34m\u001b[0m\n\u001b[1;32m      1\u001b[0m \u001b[0mbot\u001b[0m \u001b[0;34m=\u001b[0m \u001b[0mArbitrageBot\u001b[0m\u001b[0;34m(\u001b[0m\u001b[0mapi_key\u001b[0m\u001b[0;34m=\u001b[0m\u001b[0;34m'0b20b2a9fad61c63a508354884e98914'\u001b[0m\u001b[0;34m)\u001b[0m\u001b[0;34m\u001b[0m\u001b[0;34m\u001b[0m\u001b[0m\n\u001b[0;32m----> 2\u001b[0;31m \u001b[0mbot\u001b[0m\u001b[0;34m.\u001b[0m\u001b[0mfind_arbitrage_opportunities\u001b[0m\u001b[0;34m(\u001b[0m\u001b[0msport\u001b[0m\u001b[0;34m=\u001b[0m\u001b[0;34m'basketball_nba'\u001b[0m\u001b[0;34m)\u001b[0m\u001b[0;34m\u001b[0m\u001b[0;34m\u001b[0m\u001b[0m\n\u001b[0m",
            "\u001b[0;32m<ipython-input-8-c47fe0cea7a5>\u001b[0m in \u001b[0;36mfind_arbitrage_opportunities\u001b[0;34m(self, sport)\u001b[0m\n\u001b[1;32m     14\u001b[0m         \u001b[0;31m# Make a request to the odds-api to get the latest odds for the specified sport\u001b[0m\u001b[0;34m\u001b[0m\u001b[0;34m\u001b[0m\u001b[0;34m\u001b[0m\u001b[0m\n\u001b[1;32m     15\u001b[0m         \u001b[0mresponse\u001b[0m \u001b[0;34m=\u001b[0m \u001b[0mrequests\u001b[0m\u001b[0;34m.\u001b[0m\u001b[0mget\u001b[0m\u001b[0;34m(\u001b[0m\u001b[0mself\u001b[0m\u001b[0;34m.\u001b[0m\u001b[0murl\u001b[0m \u001b[0;34m+\u001b[0m \u001b[0msport\u001b[0m\u001b[0;34m,\u001b[0m \u001b[0mheaders\u001b[0m\u001b[0;34m=\u001b[0m\u001b[0mself\u001b[0m\u001b[0;34m.\u001b[0m\u001b[0mheaders\u001b[0m\u001b[0;34m)\u001b[0m\u001b[0;34m\u001b[0m\u001b[0;34m\u001b[0m\u001b[0m\n\u001b[0;32m---> 16\u001b[0;31m         \u001b[0mdata\u001b[0m \u001b[0;34m=\u001b[0m \u001b[0mjson\u001b[0m\u001b[0;34m.\u001b[0m\u001b[0mloads\u001b[0m\u001b[0;34m(\u001b[0m\u001b[0mresponse\u001b[0m\u001b[0;34m.\u001b[0m\u001b[0mtext\u001b[0m\u001b[0;34m)\u001b[0m\u001b[0;34m\u001b[0m\u001b[0;34m\u001b[0m\u001b[0m\n\u001b[0m\u001b[1;32m     17\u001b[0m \u001b[0;34m\u001b[0m\u001b[0m\n\u001b[1;32m     18\u001b[0m         \u001b[0;31m# Extract the odds and bookmaker information from the response\u001b[0m\u001b[0;34m\u001b[0m\u001b[0;34m\u001b[0m\u001b[0;34m\u001b[0m\u001b[0m\n",
            "\u001b[0;32m/usr/lib/python3.8/json/__init__.py\u001b[0m in \u001b[0;36mloads\u001b[0;34m(s, cls, object_hook, parse_float, parse_int, parse_constant, object_pairs_hook, **kw)\u001b[0m\n\u001b[1;32m    355\u001b[0m             \u001b[0mparse_int\u001b[0m \u001b[0;32mis\u001b[0m \u001b[0;32mNone\u001b[0m \u001b[0;32mand\u001b[0m \u001b[0mparse_float\u001b[0m \u001b[0;32mis\u001b[0m \u001b[0;32mNone\u001b[0m \u001b[0;32mand\u001b[0m\u001b[0;34m\u001b[0m\u001b[0;34m\u001b[0m\u001b[0m\n\u001b[1;32m    356\u001b[0m             parse_constant is None and object_pairs_hook is None and not kw):\n\u001b[0;32m--> 357\u001b[0;31m         \u001b[0;32mreturn\u001b[0m \u001b[0m_default_decoder\u001b[0m\u001b[0;34m.\u001b[0m\u001b[0mdecode\u001b[0m\u001b[0;34m(\u001b[0m\u001b[0ms\u001b[0m\u001b[0;34m)\u001b[0m\u001b[0;34m\u001b[0m\u001b[0;34m\u001b[0m\u001b[0m\n\u001b[0m\u001b[1;32m    358\u001b[0m     \u001b[0;32mif\u001b[0m \u001b[0mcls\u001b[0m \u001b[0;32mis\u001b[0m \u001b[0;32mNone\u001b[0m\u001b[0;34m:\u001b[0m\u001b[0;34m\u001b[0m\u001b[0;34m\u001b[0m\u001b[0m\n\u001b[1;32m    359\u001b[0m         \u001b[0mcls\u001b[0m \u001b[0;34m=\u001b[0m \u001b[0mJSONDecoder\u001b[0m\u001b[0;34m\u001b[0m\u001b[0;34m\u001b[0m\u001b[0m\n",
            "\u001b[0;32m/usr/lib/python3.8/json/decoder.py\u001b[0m in \u001b[0;36mdecode\u001b[0;34m(self, s, _w)\u001b[0m\n\u001b[1;32m    335\u001b[0m \u001b[0;34m\u001b[0m\u001b[0m\n\u001b[1;32m    336\u001b[0m         \"\"\"\n\u001b[0;32m--> 337\u001b[0;31m         \u001b[0mobj\u001b[0m\u001b[0;34m,\u001b[0m \u001b[0mend\u001b[0m \u001b[0;34m=\u001b[0m \u001b[0mself\u001b[0m\u001b[0;34m.\u001b[0m\u001b[0mraw_decode\u001b[0m\u001b[0;34m(\u001b[0m\u001b[0ms\u001b[0m\u001b[0;34m,\u001b[0m \u001b[0midx\u001b[0m\u001b[0;34m=\u001b[0m\u001b[0m_w\u001b[0m\u001b[0;34m(\u001b[0m\u001b[0ms\u001b[0m\u001b[0;34m,\u001b[0m \u001b[0;36m0\u001b[0m\u001b[0;34m)\u001b[0m\u001b[0;34m.\u001b[0m\u001b[0mend\u001b[0m\u001b[0;34m(\u001b[0m\u001b[0;34m)\u001b[0m\u001b[0;34m)\u001b[0m\u001b[0;34m\u001b[0m\u001b[0;34m\u001b[0m\u001b[0m\n\u001b[0m\u001b[1;32m    338\u001b[0m         \u001b[0mend\u001b[0m \u001b[0;34m=\u001b[0m \u001b[0m_w\u001b[0m\u001b[0;34m(\u001b[0m\u001b[0ms\u001b[0m\u001b[0;34m,\u001b[0m \u001b[0mend\u001b[0m\u001b[0;34m)\u001b[0m\u001b[0;34m.\u001b[0m\u001b[0mend\u001b[0m\u001b[0;34m(\u001b[0m\u001b[0;34m)\u001b[0m\u001b[0;34m\u001b[0m\u001b[0;34m\u001b[0m\u001b[0m\n\u001b[1;32m    339\u001b[0m         \u001b[0;32mif\u001b[0m \u001b[0mend\u001b[0m \u001b[0;34m!=\u001b[0m \u001b[0mlen\u001b[0m\u001b[0;34m(\u001b[0m\u001b[0ms\u001b[0m\u001b[0;34m)\u001b[0m\u001b[0;34m:\u001b[0m\u001b[0;34m\u001b[0m\u001b[0;34m\u001b[0m\u001b[0m\n",
            "\u001b[0;32m/usr/lib/python3.8/json/decoder.py\u001b[0m in \u001b[0;36mraw_decode\u001b[0;34m(self, s, idx)\u001b[0m\n\u001b[1;32m    353\u001b[0m             \u001b[0mobj\u001b[0m\u001b[0;34m,\u001b[0m \u001b[0mend\u001b[0m \u001b[0;34m=\u001b[0m \u001b[0mself\u001b[0m\u001b[0;34m.\u001b[0m\u001b[0mscan_once\u001b[0m\u001b[0;34m(\u001b[0m\u001b[0ms\u001b[0m\u001b[0;34m,\u001b[0m \u001b[0midx\u001b[0m\u001b[0;34m)\u001b[0m\u001b[0;34m\u001b[0m\u001b[0;34m\u001b[0m\u001b[0m\n\u001b[1;32m    354\u001b[0m         \u001b[0;32mexcept\u001b[0m \u001b[0mStopIteration\u001b[0m \u001b[0;32mas\u001b[0m \u001b[0merr\u001b[0m\u001b[0;34m:\u001b[0m\u001b[0;34m\u001b[0m\u001b[0;34m\u001b[0m\u001b[0m\n\u001b[0;32m--> 355\u001b[0;31m             \u001b[0;32mraise\u001b[0m \u001b[0mJSONDecodeError\u001b[0m\u001b[0;34m(\u001b[0m\u001b[0;34m\"Expecting value\"\u001b[0m\u001b[0;34m,\u001b[0m \u001b[0ms\u001b[0m\u001b[0;34m,\u001b[0m \u001b[0merr\u001b[0m\u001b[0;34m.\u001b[0m\u001b[0mvalue\u001b[0m\u001b[0;34m)\u001b[0m \u001b[0;32mfrom\u001b[0m \u001b[0;32mNone\u001b[0m\u001b[0;34m\u001b[0m\u001b[0;34m\u001b[0m\u001b[0m\n\u001b[0m\u001b[1;32m    356\u001b[0m         \u001b[0;32mreturn\u001b[0m \u001b[0mobj\u001b[0m\u001b[0;34m,\u001b[0m \u001b[0mend\u001b[0m\u001b[0;34m\u001b[0m\u001b[0;34m\u001b[0m\u001b[0m\n",
            "\u001b[0;31mJSONDecodeError\u001b[0m: Expecting value: line 1 column 1 (char 0)"
          ]
        }
      ],
      "source": [
        "bot = ArbitrageBot(api_key='0b20b2a9fad61c63a508354884e98914')\n",
        "bot.find_arbitrage_opportunities(sport='basketball_nba')"
      ]
    },
    {
      "cell_type": "code",
      "execution_count": null,
      "metadata": {
        "id": "OAU_HGE_hbbg"
      },
      "outputs": [],
      "source": [
        "import requests\n",
        "\n",
        "\n",
        "# An api key is emailed to you when you sign up to a plan\n",
        "# Get a free API key at https://api.the-odds-api.com/\n",
        "API_KEY = 'YOUR_API_KEY'\n",
        "\n",
        "SPORT = 'upcoming' # use the sport_key from the /sports endpoint below, or use 'upcoming' to see the next 8 games across all sports\n",
        "\n",
        "REGIONS = 'us' # uk | us | eu | au. Multiple can be specified if comma delimited\n",
        "\n",
        "MARKETS = 'h2h,spreads' # h2h | spreads | totals. Multiple can be specified if comma delimited\n",
        "\n",
        "ODDS_FORMAT = 'decimal' # decimal | american\n",
        "\n",
        "DATE_FORMAT = 'iso' # iso | unix\n",
        "\n",
        "# # # # # # # # # # # # # # # # # # # # # # # # # # # # # # # # # # # # \n",
        "#\n",
        "# First get a list of in-season sports\n",
        "#   The sport 'key' from the response can be used to get odds in the next request\n",
        "#\n",
        "# # # # # # # # # # # # # # # # # # # # # # # # # # # # # # # # # # # # \n",
        "\n",
        "sports_response = requests.get(\n",
        "    'https://api.the-odds-api.com/v4/sports', \n",
        "    params={\n",
        "        'api_key': API_KEY\n",
        "    }\n",
        ")\n",
        "\n",
        "\n",
        "if sports_response.status_code != 200:\n",
        "    print(f'Failed to get sports: status_code {sports_response.status_code}, response body {sports_response.text}')\n",
        "\n",
        "else:\n",
        "    print('List of in season sports:', sports_response.json())\n",
        "\n",
        "\n",
        "\n",
        "# # # # # # # # # # # # # # # # # # # # # # # # # # # # # # # # # # # # \n",
        "#\n",
        "# Now get a list of live & upcoming games for the sport you want, along with odds for different bookmakers\n",
        "# This will deduct from the usage quota\n",
        "# The usage quota cost = [number of markets specified] x [number of regions specified]\n",
        "# For examples of usage quota costs, see https://the-odds-api.com/liveapi/guides/v4/#usage-quota-costs\n",
        "#\n",
        "# # # # # # # # # # # # # # # # # # # # # # # # # # # # # # # # # # # # \n",
        "\n",
        "odds_response = requests.get(\n",
        "    f'https://api.the-odds-api.com/v4/sports/{SPORT}/odds',\n",
        "    params={\n",
        "        'api_key': API_KEY,\n",
        "        'regions': REGIONS,\n",
        "        'markets': MARKETS,\n",
        "        'oddsFormat': ODDS_FORMAT,\n",
        "        'dateFormat': DATE_FORMAT,\n",
        "    }\n",
        ")\n",
        "\n",
        "if odds_response.status_code != 200:\n",
        "    print(f'Failed to get odds: status_code {odds_response.status_code}, response body {odds_response.text}')\n",
        "\n",
        "else:\n",
        "    odds_json = odds_response.json()\n",
        "    print('Number of events:', len(odds_json))\n",
        "    print(odds_json)\n",
        "\n",
        "    # Check the usage quota\n",
        "    print('Remaining requests', odds_response.headers['x-requests-remaining'])\n",
        "    print('Used requests', odds_response.headers['x-requests-used'])"
      ]
    },
    {
      "cell_type": "code",
      "execution_count": null,
      "metadata": {},
      "outputs": [],
      "source": [
        "bot = ArbitrageBot(api_key='0b20b2a9fad61c63a508354884e98914')\n",
        "bot.find_arbitrage_opportunities(sport='basketball_nba')"
      ]
    }
  ],
  "metadata": {
    "colab": {
      "provenance": []
    },
    "kernelspec": {
      "display_name": "Python 3",
      "name": "python3"
    },
    "language_info": {
      "name": "python"
    }
  },
  "nbformat": 4,
  "nbformat_minor": 0
}
